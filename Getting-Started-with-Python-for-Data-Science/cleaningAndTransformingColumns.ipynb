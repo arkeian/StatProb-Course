{
 "cells": [
  {
   "cell_type": "markdown",
   "metadata": {},
   "source": [
    "##### 1: Column Information"
   ]
  },
  {
   "cell_type": "code",
   "execution_count": 2,
   "metadata": {},
   "outputs": [
    {
     "data": {
      "text/html": [
       "<div>\n",
       "<style scoped>\n",
       "    .dataframe tbody tr th:only-of-type {\n",
       "        vertical-align: middle;\n",
       "    }\n",
       "\n",
       "    .dataframe tbody tr th {\n",
       "        vertical-align: top;\n",
       "    }\n",
       "\n",
       "    .dataframe thead th {\n",
       "        text-align: right;\n",
       "    }\n",
       "</style>\n",
       "<table border=\"1\" class=\"dataframe\">\n",
       "  <thead>\n",
       "    <tr style=\"text-align: right;\">\n",
       "      <th></th>\n",
       "      <th>index</th>\n",
       "      <th>Park</th>\n",
       "      <th>Location</th>\n",
       "      <th>AnnualPassPrice</th>\n",
       "      <th>Area</th>\n",
       "      <th>ParkType</th>\n",
       "      <th>Year2021</th>\n",
       "      <th>Year2020</th>\n",
       "      <th>Year2019</th>\n",
       "    </tr>\n",
       "  </thead>\n",
       "  <tbody>\n",
       "    <tr>\n",
       "      <th>0</th>\n",
       "      <td>1</td>\n",
       "      <td>Great Smoky Mountains</td>\n",
       "      <td>Gatlinburg, TN</td>\n",
       "      <td>40</td>\n",
       "      <td>816.3 sqmi</td>\n",
       "      <td>National park</td>\n",
       "      <td>14161548</td>\n",
       "      <td>12095720</td>\n",
       "      <td>12547743.0</td>\n",
       "    </tr>\n",
       "    <tr>\n",
       "      <th>1</th>\n",
       "      <td>2</td>\n",
       "      <td>Zion</td>\n",
       "      <td>Springdale, UT</td>\n",
       "      <td>70</td>\n",
       "      <td>229.1 sqmi</td>\n",
       "      <td>National park</td>\n",
       "      <td>5039835</td>\n",
       "      <td>3591254</td>\n",
       "      <td>4488268.0</td>\n",
       "    </tr>\n",
       "    <tr>\n",
       "      <th>2</th>\n",
       "      <td>3</td>\n",
       "      <td>Yellowstone</td>\n",
       "      <td>Jackson, WY</td>\n",
       "      <td>70</td>\n",
       "      <td>3468.4 sqmi</td>\n",
       "      <td>National park</td>\n",
       "      <td>4860242</td>\n",
       "      <td>3806306</td>\n",
       "      <td>4020288.0</td>\n",
       "    </tr>\n",
       "    <tr>\n",
       "      <th>3</th>\n",
       "      <td>4</td>\n",
       "      <td>Grand Canyon</td>\n",
       "      <td>Grand Canyon Village, AZ</td>\n",
       "      <td>80</td>\n",
       "      <td>1902.0 sqmi</td>\n",
       "      <td>National park</td>\n",
       "      <td>4532677</td>\n",
       "      <td>2897098</td>\n",
       "      <td>5974411.0</td>\n",
       "    </tr>\n",
       "    <tr>\n",
       "      <th>4</th>\n",
       "      <td>5</td>\n",
       "      <td>Rocky Mountain</td>\n",
       "      <td>Estes Park, CO</td>\n",
       "      <td>70</td>\n",
       "      <td>414.8 sqmi</td>\n",
       "      <td>National park</td>\n",
       "      <td>4434848</td>\n",
       "      <td>3305199</td>\n",
       "      <td>4670053.0</td>\n",
       "    </tr>\n",
       "  </tbody>\n",
       "</table>\n",
       "</div>"
      ],
      "text/plain": [
       "   index                   Park                  Location  AnnualPassPrice  \\\n",
       "0      1  Great Smoky Mountains            Gatlinburg, TN               40   \n",
       "1      2                   Zion            Springdale, UT               70   \n",
       "2      3            Yellowstone               Jackson, WY               70   \n",
       "3      4           Grand Canyon  Grand Canyon Village, AZ               80   \n",
       "4      5         Rocky Mountain            Estes Park, CO               70   \n",
       "\n",
       "          Area       ParkType  Year2021  Year2020    Year2019  \n",
       "0   816.3 sqmi  National park  14161548  12095720  12547743.0  \n",
       "1   229.1 sqmi  National park   5039835   3591254   4488268.0  \n",
       "2  3468.4 sqmi  National park   4860242   3806306   4020288.0  \n",
       "3  1902.0 sqmi  National park   4532677   2897098   5974411.0  \n",
       "4   414.8 sqmi  National park   4434848   3305199   4670053.0  "
      ]
     },
     "execution_count": 2,
     "metadata": {},
     "output_type": "execute_result"
    }
   ],
   "source": [
    "import pandas as pd\n",
    "parks = pd.read_csv('nationalpark_visitors.csv')\n",
    "parks.head()"
   ]
  },
  {
   "cell_type": "code",
   "execution_count": 3,
   "metadata": {},
   "outputs": [
    {
     "name": "stdout",
     "output_type": "stream",
     "text": [
      "<class 'pandas.core.frame.DataFrame'>\n",
      "RangeIndex: 72 entries, 0 to 71\n",
      "Data columns (total 9 columns):\n",
      " #   Column           Non-Null Count  Dtype  \n",
      "---  ------           --------------  -----  \n",
      " 0   index            72 non-null     int64  \n",
      " 1   Park             72 non-null     object \n",
      " 2   Location         72 non-null     object \n",
      " 3   AnnualPassPrice  72 non-null     int64  \n",
      " 4   Area             72 non-null     object \n",
      " 5   ParkType         72 non-null     object \n",
      " 6   Year2021         72 non-null     int64  \n",
      " 7   Year2020         72 non-null     int64  \n",
      " 8   Year2019         71 non-null     float64\n",
      "dtypes: float64(1), int64(4), object(4)\n",
      "memory usage: 5.2+ KB\n"
     ]
    }
   ],
   "source": [
    "parks.info()"
   ]
  },
  {
   "cell_type": "markdown",
   "metadata": {},
   "source": [
    "##### 2: Renaming and Removing Columns"
   ]
  },
  {
   "cell_type": "code",
   "execution_count": 4,
   "metadata": {},
   "outputs": [
    {
     "data": {
      "text/html": [
       "<div>\n",
       "<style scoped>\n",
       "    .dataframe tbody tr th:only-of-type {\n",
       "        vertical-align: middle;\n",
       "    }\n",
       "\n",
       "    .dataframe tbody tr th {\n",
       "        vertical-align: top;\n",
       "    }\n",
       "\n",
       "    .dataframe thead th {\n",
       "        text-align: right;\n",
       "    }\n",
       "</style>\n",
       "<table border=\"1\" class=\"dataframe\">\n",
       "  <thead>\n",
       "    <tr style=\"text-align: right;\">\n",
       "      <th></th>\n",
       "      <th>index</th>\n",
       "      <th>Park</th>\n",
       "      <th>Location</th>\n",
       "      <th>AnnualPassPrice</th>\n",
       "      <th>Area</th>\n",
       "      <th>ParkType</th>\n",
       "      <th>Visitors2021</th>\n",
       "      <th>Visitors2020</th>\n",
       "      <th>Visitors2019</th>\n",
       "    </tr>\n",
       "  </thead>\n",
       "  <tbody>\n",
       "    <tr>\n",
       "      <th>0</th>\n",
       "      <td>1</td>\n",
       "      <td>Great Smoky Mountains</td>\n",
       "      <td>Gatlinburg, TN</td>\n",
       "      <td>40</td>\n",
       "      <td>816.3 sqmi</td>\n",
       "      <td>National park</td>\n",
       "      <td>14161548</td>\n",
       "      <td>12095720</td>\n",
       "      <td>12547743.0</td>\n",
       "    </tr>\n",
       "    <tr>\n",
       "      <th>1</th>\n",
       "      <td>2</td>\n",
       "      <td>Zion</td>\n",
       "      <td>Springdale, UT</td>\n",
       "      <td>70</td>\n",
       "      <td>229.1 sqmi</td>\n",
       "      <td>National park</td>\n",
       "      <td>5039835</td>\n",
       "      <td>3591254</td>\n",
       "      <td>4488268.0</td>\n",
       "    </tr>\n",
       "    <tr>\n",
       "      <th>2</th>\n",
       "      <td>3</td>\n",
       "      <td>Yellowstone</td>\n",
       "      <td>Jackson, WY</td>\n",
       "      <td>70</td>\n",
       "      <td>3468.4 sqmi</td>\n",
       "      <td>National park</td>\n",
       "      <td>4860242</td>\n",
       "      <td>3806306</td>\n",
       "      <td>4020288.0</td>\n",
       "    </tr>\n",
       "    <tr>\n",
       "      <th>3</th>\n",
       "      <td>4</td>\n",
       "      <td>Grand Canyon</td>\n",
       "      <td>Grand Canyon Village, AZ</td>\n",
       "      <td>80</td>\n",
       "      <td>1902.0 sqmi</td>\n",
       "      <td>National park</td>\n",
       "      <td>4532677</td>\n",
       "      <td>2897098</td>\n",
       "      <td>5974411.0</td>\n",
       "    </tr>\n",
       "    <tr>\n",
       "      <th>4</th>\n",
       "      <td>5</td>\n",
       "      <td>Rocky Mountain</td>\n",
       "      <td>Estes Park, CO</td>\n",
       "      <td>70</td>\n",
       "      <td>414.8 sqmi</td>\n",
       "      <td>National park</td>\n",
       "      <td>4434848</td>\n",
       "      <td>3305199</td>\n",
       "      <td>4670053.0</td>\n",
       "    </tr>\n",
       "  </tbody>\n",
       "</table>\n",
       "</div>"
      ],
      "text/plain": [
       "   index                   Park                  Location  AnnualPassPrice  \\\n",
       "0      1  Great Smoky Mountains            Gatlinburg, TN               40   \n",
       "1      2                   Zion            Springdale, UT               70   \n",
       "2      3            Yellowstone               Jackson, WY               70   \n",
       "3      4           Grand Canyon  Grand Canyon Village, AZ               80   \n",
       "4      5         Rocky Mountain            Estes Park, CO               70   \n",
       "\n",
       "          Area       ParkType  Visitors2021  Visitors2020  Visitors2019  \n",
       "0   816.3 sqmi  National park      14161548      12095720    12547743.0  \n",
       "1   229.1 sqmi  National park       5039835       3591254     4488268.0  \n",
       "2  3468.4 sqmi  National park       4860242       3806306     4020288.0  \n",
       "3  1902.0 sqmi  National park       4532677       2897098     5974411.0  \n",
       "4   414.8 sqmi  National park       4434848       3305199     4670053.0  "
      ]
     },
     "execution_count": 4,
     "metadata": {},
     "output_type": "execute_result"
    }
   ],
   "source": [
    "new_column_name = {\n",
    "    'Year2019': 'Visitors2019',\n",
    "    'Year2020': 'Visitors2020',\n",
    "    'Year2021': 'Visitors2021'\n",
    "}\n",
    "parks = parks.rename(mapper=new_column_name, axis=1)\n",
    "parks.head()"
   ]
  },
  {
   "cell_type": "code",
   "execution_count": 5,
   "metadata": {},
   "outputs": [
    {
     "data": {
      "text/html": [
       "<div>\n",
       "<style scoped>\n",
       "    .dataframe tbody tr th:only-of-type {\n",
       "        vertical-align: middle;\n",
       "    }\n",
       "\n",
       "    .dataframe tbody tr th {\n",
       "        vertical-align: top;\n",
       "    }\n",
       "\n",
       "    .dataframe thead th {\n",
       "        text-align: right;\n",
       "    }\n",
       "</style>\n",
       "<table border=\"1\" class=\"dataframe\">\n",
       "  <thead>\n",
       "    <tr style=\"text-align: right;\">\n",
       "      <th></th>\n",
       "      <th>Park</th>\n",
       "      <th>Location</th>\n",
       "      <th>AnnualPassPrice</th>\n",
       "      <th>Area</th>\n",
       "      <th>ParkType</th>\n",
       "      <th>Visitors2021</th>\n",
       "      <th>Visitors2020</th>\n",
       "      <th>Visitors2019</th>\n",
       "    </tr>\n",
       "  </thead>\n",
       "  <tbody>\n",
       "    <tr>\n",
       "      <th>0</th>\n",
       "      <td>Great Smoky Mountains</td>\n",
       "      <td>Gatlinburg, TN</td>\n",
       "      <td>40</td>\n",
       "      <td>816.3 sqmi</td>\n",
       "      <td>National park</td>\n",
       "      <td>14161548</td>\n",
       "      <td>12095720</td>\n",
       "      <td>12547743.0</td>\n",
       "    </tr>\n",
       "    <tr>\n",
       "      <th>1</th>\n",
       "      <td>Zion</td>\n",
       "      <td>Springdale, UT</td>\n",
       "      <td>70</td>\n",
       "      <td>229.1 sqmi</td>\n",
       "      <td>National park</td>\n",
       "      <td>5039835</td>\n",
       "      <td>3591254</td>\n",
       "      <td>4488268.0</td>\n",
       "    </tr>\n",
       "    <tr>\n",
       "      <th>2</th>\n",
       "      <td>Yellowstone</td>\n",
       "      <td>Jackson, WY</td>\n",
       "      <td>70</td>\n",
       "      <td>3468.4 sqmi</td>\n",
       "      <td>National park</td>\n",
       "      <td>4860242</td>\n",
       "      <td>3806306</td>\n",
       "      <td>4020288.0</td>\n",
       "    </tr>\n",
       "    <tr>\n",
       "      <th>3</th>\n",
       "      <td>Grand Canyon</td>\n",
       "      <td>Grand Canyon Village, AZ</td>\n",
       "      <td>80</td>\n",
       "      <td>1902.0 sqmi</td>\n",
       "      <td>National park</td>\n",
       "      <td>4532677</td>\n",
       "      <td>2897098</td>\n",
       "      <td>5974411.0</td>\n",
       "    </tr>\n",
       "    <tr>\n",
       "      <th>4</th>\n",
       "      <td>Rocky Mountain</td>\n",
       "      <td>Estes Park, CO</td>\n",
       "      <td>70</td>\n",
       "      <td>414.8 sqmi</td>\n",
       "      <td>National park</td>\n",
       "      <td>4434848</td>\n",
       "      <td>3305199</td>\n",
       "      <td>4670053.0</td>\n",
       "    </tr>\n",
       "  </tbody>\n",
       "</table>\n",
       "</div>"
      ],
      "text/plain": [
       "                    Park                  Location  AnnualPassPrice  \\\n",
       "0  Great Smoky Mountains            Gatlinburg, TN               40   \n",
       "1                   Zion            Springdale, UT               70   \n",
       "2            Yellowstone               Jackson, WY               70   \n",
       "3           Grand Canyon  Grand Canyon Village, AZ               80   \n",
       "4         Rocky Mountain            Estes Park, CO               70   \n",
       "\n",
       "          Area       ParkType  Visitors2021  Visitors2020  Visitors2019  \n",
       "0   816.3 sqmi  National park      14161548      12095720    12547743.0  \n",
       "1   229.1 sqmi  National park       5039835       3591254     4488268.0  \n",
       "2  3468.4 sqmi  National park       4860242       3806306     4020288.0  \n",
       "3  1902.0 sqmi  National park       4532677       2897098     5974411.0  \n",
       "4   414.8 sqmi  National park       4434848       3305199     4670053.0  "
      ]
     },
     "execution_count": 5,
     "metadata": {},
     "output_type": "execute_result"
    }
   ],
   "source": [
    "parks = parks.drop(labels='index', axis=1)\n",
    "parks.head()"
   ]
  },
  {
   "cell_type": "markdown",
   "metadata": {},
   "source": [
    "##### 3: Calculations in Python"
   ]
  },
  {
   "cell_type": "code",
   "execution_count": 6,
   "metadata": {},
   "outputs": [
    {
     "data": {
      "text/plain": [
       "56"
      ]
     },
     "execution_count": 6,
     "metadata": {},
     "output_type": "execute_result"
    }
   ],
   "source": [
    "grand_canyon_price = parks.loc[parks['Park'] == 'Grand Canyon', 'AnnualPassPrice'].item()\n",
    "amount_saved = grand_canyon_price * 0.3\n",
    "new_price = round(grand_canyon_price - amount_saved)\n",
    "new_price"
   ]
  },
  {
   "cell_type": "code",
   "execution_count": 7,
   "metadata": {},
   "outputs": [
    {
     "data": {
      "text/plain": [
       "-24.977737581357378"
      ]
     },
     "execution_count": 7,
     "metadata": {},
     "output_type": "execute_result"
    }
   ],
   "source": [
    "visitors2019, visitors2020 = [float(x) for x in parks.loc[parks['Park'] == 'Zion', ['Visitors2019', 'Visitors2020']].values[0]]\n",
    "percentchange_2020 = (visitors2020 - visitors2019) / visitors2020 * 100\n",
    "percentchange_2020"
   ]
  },
  {
   "cell_type": "code",
   "execution_count": 8,
   "metadata": {},
   "outputs": [
    {
     "data": {
      "text/plain": [
       "-24.98"
      ]
     },
     "execution_count": 8,
     "metadata": {},
     "output_type": "execute_result"
    }
   ],
   "source": [
    "rounded_percent = round(percentchange_2020, 2)\n",
    "rounded_percent"
   ]
  },
  {
   "cell_type": "markdown",
   "metadata": {},
   "source": [
    "##### 4: Column Calculations in Pandas"
   ]
  },
  {
   "cell_type": "code",
   "execution_count": 9,
   "metadata": {},
   "outputs": [
    {
     "data": {
      "text/html": [
       "<div>\n",
       "<style scoped>\n",
       "    .dataframe tbody tr th:only-of-type {\n",
       "        vertical-align: middle;\n",
       "    }\n",
       "\n",
       "    .dataframe tbody tr th {\n",
       "        vertical-align: top;\n",
       "    }\n",
       "\n",
       "    .dataframe thead th {\n",
       "        text-align: right;\n",
       "    }\n",
       "</style>\n",
       "<table border=\"1\" class=\"dataframe\">\n",
       "  <thead>\n",
       "    <tr style=\"text-align: right;\">\n",
       "      <th></th>\n",
       "      <th>Visitors2020</th>\n",
       "      <th>Visitors2019</th>\n",
       "      <th>Change2020</th>\n",
       "    </tr>\n",
       "  </thead>\n",
       "  <tbody>\n",
       "    <tr>\n",
       "      <th>0</th>\n",
       "      <td>12095720</td>\n",
       "      <td>12547743.0</td>\n",
       "      <td>-452023.0</td>\n",
       "    </tr>\n",
       "    <tr>\n",
       "      <th>1</th>\n",
       "      <td>3591254</td>\n",
       "      <td>4488268.0</td>\n",
       "      <td>-897014.0</td>\n",
       "    </tr>\n",
       "    <tr>\n",
       "      <th>2</th>\n",
       "      <td>3806306</td>\n",
       "      <td>4020288.0</td>\n",
       "      <td>-213982.0</td>\n",
       "    </tr>\n",
       "    <tr>\n",
       "      <th>3</th>\n",
       "      <td>2897098</td>\n",
       "      <td>5974411.0</td>\n",
       "      <td>-3077313.0</td>\n",
       "    </tr>\n",
       "    <tr>\n",
       "      <th>4</th>\n",
       "      <td>3305199</td>\n",
       "      <td>4670053.0</td>\n",
       "      <td>-1364854.0</td>\n",
       "    </tr>\n",
       "    <tr>\n",
       "      <th>...</th>\n",
       "      <td>...</td>\n",
       "      <td>...</td>\n",
       "      <td>...</td>\n",
       "    </tr>\n",
       "    <tr>\n",
       "      <th>67</th>\n",
       "      <td>12533</td>\n",
       "      <td>17216.0</td>\n",
       "      <td>-4683.0</td>\n",
       "    </tr>\n",
       "    <tr>\n",
       "      <th>68</th>\n",
       "      <td>11185</td>\n",
       "      <td>15766.0</td>\n",
       "      <td>-4581.0</td>\n",
       "    </tr>\n",
       "    <tr>\n",
       "      <th>69</th>\n",
       "      <td>2872</td>\n",
       "      <td>10518.0</td>\n",
       "      <td>-7646.0</td>\n",
       "    </tr>\n",
       "    <tr>\n",
       "      <th>70</th>\n",
       "      <td>2642</td>\n",
       "      <td>2642.0</td>\n",
       "      <td>0.0</td>\n",
       "    </tr>\n",
       "    <tr>\n",
       "      <th>71</th>\n",
       "      <td>666</td>\n",
       "      <td>1114.0</td>\n",
       "      <td>-448.0</td>\n",
       "    </tr>\n",
       "  </tbody>\n",
       "</table>\n",
       "<p>72 rows × 3 columns</p>\n",
       "</div>"
      ],
      "text/plain": [
       "    Visitors2020  Visitors2019  Change2020\n",
       "0       12095720    12547743.0   -452023.0\n",
       "1        3591254     4488268.0   -897014.0\n",
       "2        3806306     4020288.0   -213982.0\n",
       "3        2897098     5974411.0  -3077313.0\n",
       "4        3305199     4670053.0  -1364854.0\n",
       "..           ...           ...         ...\n",
       "67         12533       17216.0     -4683.0\n",
       "68         11185       15766.0     -4581.0\n",
       "69          2872       10518.0     -7646.0\n",
       "70          2642        2642.0         0.0\n",
       "71           666        1114.0      -448.0\n",
       "\n",
       "[72 rows x 3 columns]"
      ]
     },
     "execution_count": 9,
     "metadata": {},
     "output_type": "execute_result"
    }
   ],
   "source": [
    "parks['Change2020'] = parks['Visitors2020'] - parks['Visitors2019']\n",
    "parks.loc[:, 'Visitors2020':'Change2020']"
   ]
  },
  {
   "cell_type": "code",
   "execution_count": 10,
   "metadata": {},
   "outputs": [
    {
     "data": {
      "text/html": [
       "<div>\n",
       "<style scoped>\n",
       "    .dataframe tbody tr th:only-of-type {\n",
       "        vertical-align: middle;\n",
       "    }\n",
       "\n",
       "    .dataframe tbody tr th {\n",
       "        vertical-align: top;\n",
       "    }\n",
       "\n",
       "    .dataframe thead th {\n",
       "        text-align: right;\n",
       "    }\n",
       "</style>\n",
       "<table border=\"1\" class=\"dataframe\">\n",
       "  <thead>\n",
       "    <tr style=\"text-align: right;\">\n",
       "      <th></th>\n",
       "      <th>Park</th>\n",
       "      <th>Location</th>\n",
       "      <th>AnnualPassPrice</th>\n",
       "      <th>Area</th>\n",
       "      <th>ParkType</th>\n",
       "      <th>Visitors2021</th>\n",
       "      <th>Visitors2020</th>\n",
       "      <th>Visitors2019</th>\n",
       "      <th>Change2020</th>\n",
       "      <th>PercentChange2020</th>\n",
       "    </tr>\n",
       "  </thead>\n",
       "  <tbody>\n",
       "    <tr>\n",
       "      <th>0</th>\n",
       "      <td>Great Smoky Mountains</td>\n",
       "      <td>Gatlinburg, TN</td>\n",
       "      <td>40</td>\n",
       "      <td>816.3 sqmi</td>\n",
       "      <td>National park</td>\n",
       "      <td>14161548</td>\n",
       "      <td>12095720</td>\n",
       "      <td>12547743.0</td>\n",
       "      <td>-452023.0</td>\n",
       "      <td>-3.602425</td>\n",
       "    </tr>\n",
       "    <tr>\n",
       "      <th>1</th>\n",
       "      <td>Zion</td>\n",
       "      <td>Springdale, UT</td>\n",
       "      <td>70</td>\n",
       "      <td>229.1 sqmi</td>\n",
       "      <td>National park</td>\n",
       "      <td>5039835</td>\n",
       "      <td>3591254</td>\n",
       "      <td>4488268.0</td>\n",
       "      <td>-897014.0</td>\n",
       "      <td>-19.985750</td>\n",
       "    </tr>\n",
       "    <tr>\n",
       "      <th>2</th>\n",
       "      <td>Yellowstone</td>\n",
       "      <td>Jackson, WY</td>\n",
       "      <td>70</td>\n",
       "      <td>3468.4 sqmi</td>\n",
       "      <td>National park</td>\n",
       "      <td>4860242</td>\n",
       "      <td>3806306</td>\n",
       "      <td>4020288.0</td>\n",
       "      <td>-213982.0</td>\n",
       "      <td>-5.322554</td>\n",
       "    </tr>\n",
       "    <tr>\n",
       "      <th>3</th>\n",
       "      <td>Grand Canyon</td>\n",
       "      <td>Grand Canyon Village, AZ</td>\n",
       "      <td>80</td>\n",
       "      <td>1902.0 sqmi</td>\n",
       "      <td>National park</td>\n",
       "      <td>4532677</td>\n",
       "      <td>2897098</td>\n",
       "      <td>5974411.0</td>\n",
       "      <td>-3077313.0</td>\n",
       "      <td>-51.508224</td>\n",
       "    </tr>\n",
       "    <tr>\n",
       "      <th>4</th>\n",
       "      <td>Rocky Mountain</td>\n",
       "      <td>Estes Park, CO</td>\n",
       "      <td>70</td>\n",
       "      <td>414.8 sqmi</td>\n",
       "      <td>National park</td>\n",
       "      <td>4434848</td>\n",
       "      <td>3305199</td>\n",
       "      <td>4670053.0</td>\n",
       "      <td>-1364854.0</td>\n",
       "      <td>-29.225664</td>\n",
       "    </tr>\n",
       "  </tbody>\n",
       "</table>\n",
       "</div>"
      ],
      "text/plain": [
       "                    Park                  Location  AnnualPassPrice  \\\n",
       "0  Great Smoky Mountains            Gatlinburg, TN               40   \n",
       "1                   Zion            Springdale, UT               70   \n",
       "2            Yellowstone               Jackson, WY               70   \n",
       "3           Grand Canyon  Grand Canyon Village, AZ               80   \n",
       "4         Rocky Mountain            Estes Park, CO               70   \n",
       "\n",
       "          Area       ParkType  Visitors2021  Visitors2020  Visitors2019  \\\n",
       "0   816.3 sqmi  National park      14161548      12095720    12547743.0   \n",
       "1   229.1 sqmi  National park       5039835       3591254     4488268.0   \n",
       "2  3468.4 sqmi  National park       4860242       3806306     4020288.0   \n",
       "3  1902.0 sqmi  National park       4532677       2897098     5974411.0   \n",
       "4   414.8 sqmi  National park       4434848       3305199     4670053.0   \n",
       "\n",
       "   Change2020  PercentChange2020  \n",
       "0   -452023.0          -3.602425  \n",
       "1   -897014.0         -19.985750  \n",
       "2   -213982.0          -5.322554  \n",
       "3  -3077313.0         -51.508224  \n",
       "4  -1364854.0         -29.225664  "
      ]
     },
     "execution_count": 10,
     "metadata": {},
     "output_type": "execute_result"
    }
   ],
   "source": [
    "parks['PercentChange2020'] = parks['Change2020'] / parks['Visitors2019'] * 100\n",
    "parks.head()"
   ]
  },
  {
   "cell_type": "code",
   "execution_count": 11,
   "metadata": {},
   "outputs": [
    {
     "data": {
      "text/plain": [
       "count    71.000000\n",
       "mean    -29.499014\n",
       "std      28.994767\n",
       "min     -99.140000\n",
       "25%     -47.405000\n",
       "50%     -27.130000\n",
       "75%     -10.295000\n",
       "max      25.590000\n",
       "Name: PercentChange2020, dtype: float64"
      ]
     },
     "execution_count": 11,
     "metadata": {},
     "output_type": "execute_result"
    }
   ],
   "source": [
    "parks['PercentChange2020'] = round(parks['PercentChange2020'], 2)\n",
    "parks['PercentChange2020'].describe()"
   ]
  },
  {
   "cell_type": "markdown",
   "metadata": {},
   "source": [
    "##### 5: Splitting and Combining Columns"
   ]
  },
  {
   "cell_type": "code",
   "execution_count": 12,
   "metadata": {},
   "outputs": [
    {
     "data": {
      "text/html": [
       "<div>\n",
       "<style scoped>\n",
       "    .dataframe tbody tr th:only-of-type {\n",
       "        vertical-align: middle;\n",
       "    }\n",
       "\n",
       "    .dataframe tbody tr th {\n",
       "        vertical-align: top;\n",
       "    }\n",
       "\n",
       "    .dataframe thead th {\n",
       "        text-align: right;\n",
       "    }\n",
       "</style>\n",
       "<table border=\"1\" class=\"dataframe\">\n",
       "  <thead>\n",
       "    <tr style=\"text-align: right;\">\n",
       "      <th></th>\n",
       "      <th>Area</th>\n",
       "      <th>AreaValues</th>\n",
       "    </tr>\n",
       "  </thead>\n",
       "  <tbody>\n",
       "    <tr>\n",
       "      <th>0</th>\n",
       "      <td>sqmi</td>\n",
       "      <td>816.3</td>\n",
       "    </tr>\n",
       "    <tr>\n",
       "      <th>1</th>\n",
       "      <td>sqmi</td>\n",
       "      <td>229.1</td>\n",
       "    </tr>\n",
       "    <tr>\n",
       "      <th>2</th>\n",
       "      <td>sqmi</td>\n",
       "      <td>3468.4</td>\n",
       "    </tr>\n",
       "    <tr>\n",
       "      <th>3</th>\n",
       "      <td>sqmi</td>\n",
       "      <td>1902.0</td>\n",
       "    </tr>\n",
       "    <tr>\n",
       "      <th>4</th>\n",
       "      <td>sqmi</td>\n",
       "      <td>414.8</td>\n",
       "    </tr>\n",
       "  </tbody>\n",
       "</table>\n",
       "</div>"
      ],
      "text/plain": [
       "   Area AreaValues\n",
       "0  sqmi      816.3\n",
       "1  sqmi      229.1\n",
       "2  sqmi     3468.4\n",
       "3  sqmi     1902.0\n",
       "4  sqmi      414.8"
      ]
     },
     "execution_count": 12,
     "metadata": {},
     "output_type": "execute_result"
    }
   ],
   "source": [
    "parks[['AreaValues', 'Area']] = parks['Area'].str.split(pat=' ', expand=True)\n",
    "parks[['Area', 'AreaValues']].head()"
   ]
  },
  {
   "cell_type": "code",
   "execution_count": 13,
   "metadata": {},
   "outputs": [
    {
     "data": {
      "text/html": [
       "<div>\n",
       "<style scoped>\n",
       "    .dataframe tbody tr th:only-of-type {\n",
       "        vertical-align: middle;\n",
       "    }\n",
       "\n",
       "    .dataframe tbody tr th {\n",
       "        vertical-align: top;\n",
       "    }\n",
       "\n",
       "    .dataframe thead th {\n",
       "        text-align: right;\n",
       "    }\n",
       "</style>\n",
       "<table border=\"1\" class=\"dataframe\">\n",
       "  <thead>\n",
       "    <tr style=\"text-align: right;\">\n",
       "      <th></th>\n",
       "      <th>Park</th>\n",
       "      <th>ParkType</th>\n",
       "      <th>ParkTitle</th>\n",
       "    </tr>\n",
       "  </thead>\n",
       "  <tbody>\n",
       "    <tr>\n",
       "      <th>0</th>\n",
       "      <td>Great Smoky Mountains</td>\n",
       "      <td>National park</td>\n",
       "      <td>Great Smoky Mountains National park</td>\n",
       "    </tr>\n",
       "    <tr>\n",
       "      <th>1</th>\n",
       "      <td>Zion</td>\n",
       "      <td>National park</td>\n",
       "      <td>Zion National park</td>\n",
       "    </tr>\n",
       "    <tr>\n",
       "      <th>2</th>\n",
       "      <td>Yellowstone</td>\n",
       "      <td>National park</td>\n",
       "      <td>Yellowstone National park</td>\n",
       "    </tr>\n",
       "    <tr>\n",
       "      <th>3</th>\n",
       "      <td>Grand Canyon</td>\n",
       "      <td>National park</td>\n",
       "      <td>Grand Canyon National park</td>\n",
       "    </tr>\n",
       "    <tr>\n",
       "      <th>4</th>\n",
       "      <td>Rocky Mountain</td>\n",
       "      <td>National park</td>\n",
       "      <td>Rocky Mountain National park</td>\n",
       "    </tr>\n",
       "  </tbody>\n",
       "</table>\n",
       "</div>"
      ],
      "text/plain": [
       "                    Park       ParkType                            ParkTitle\n",
       "0  Great Smoky Mountains  National park  Great Smoky Mountains National park\n",
       "1                   Zion  National park                   Zion National park\n",
       "2            Yellowstone  National park            Yellowstone National park\n",
       "3           Grand Canyon  National park           Grand Canyon National park\n",
       "4         Rocky Mountain  National park         Rocky Mountain National park"
      ]
     },
     "execution_count": 13,
     "metadata": {},
     "output_type": "execute_result"
    }
   ],
   "source": [
    "parks['ParkTitle'] = parks['Park'].str.cat(parks['ParkType'], sep=' ') \n",
    "parks[['Park', 'ParkType', 'ParkTitle']].head()"
   ]
  },
  {
   "cell_type": "code",
   "execution_count": 14,
   "metadata": {},
   "outputs": [
    {
     "data": {
      "text/html": [
       "<div>\n",
       "<style scoped>\n",
       "    .dataframe tbody tr th:only-of-type {\n",
       "        vertical-align: middle;\n",
       "    }\n",
       "\n",
       "    .dataframe tbody tr th {\n",
       "        vertical-align: top;\n",
       "    }\n",
       "\n",
       "    .dataframe thead th {\n",
       "        text-align: right;\n",
       "    }\n",
       "</style>\n",
       "<table border=\"1\" class=\"dataframe\">\n",
       "  <thead>\n",
       "    <tr style=\"text-align: right;\">\n",
       "      <th></th>\n",
       "      <th>Location</th>\n",
       "      <th>State</th>\n",
       "    </tr>\n",
       "  </thead>\n",
       "  <tbody>\n",
       "    <tr>\n",
       "      <th>0</th>\n",
       "      <td>Gatlinburg, TN</td>\n",
       "      <td>TN</td>\n",
       "    </tr>\n",
       "    <tr>\n",
       "      <th>1</th>\n",
       "      <td>Springdale, UT</td>\n",
       "      <td>UT</td>\n",
       "    </tr>\n",
       "    <tr>\n",
       "      <th>2</th>\n",
       "      <td>Jackson, WY</td>\n",
       "      <td>WY</td>\n",
       "    </tr>\n",
       "    <tr>\n",
       "      <th>3</th>\n",
       "      <td>Grand Canyon Village, AZ</td>\n",
       "      <td>AZ</td>\n",
       "    </tr>\n",
       "    <tr>\n",
       "      <th>4</th>\n",
       "      <td>Estes Park, CO</td>\n",
       "      <td>CO</td>\n",
       "    </tr>\n",
       "  </tbody>\n",
       "</table>\n",
       "</div>"
      ],
      "text/plain": [
       "                   Location State\n",
       "0            Gatlinburg, TN    TN\n",
       "1            Springdale, UT    UT\n",
       "2               Jackson, WY    WY\n",
       "3  Grand Canyon Village, AZ    AZ\n",
       "4            Estes Park, CO    CO"
      ]
     },
     "execution_count": 14,
     "metadata": {},
     "output_type": "execute_result"
    }
   ],
   "source": [
    "parks['State'] = parks['Location'].str.split(pat=',', expand=True)[1]\n",
    "parks[['Location', 'State']].head()"
   ]
  },
  {
   "cell_type": "markdown",
   "metadata": {},
   "source": [
    "##### 6: Modifying Text Data"
   ]
  },
  {
   "cell_type": "code",
   "execution_count": 15,
   "metadata": {},
   "outputs": [
    {
     "data": {
      "text/plain": [
       "0    Great Smoky Mountains National Park\n",
       "1                     Zion National Park\n",
       "2              Yellowstone National Park\n",
       "3             Grand Canyon National Park\n",
       "4           Rocky Mountain National Park\n",
       "Name: ParkTitle, dtype: object"
      ]
     },
     "execution_count": 15,
     "metadata": {},
     "output_type": "execute_result"
    }
   ],
   "source": [
    "parks['ParkTitle'] = parks['ParkTitle'].str.title()\n",
    "parks['ParkTitle'].head()"
   ]
  },
  {
   "cell_type": "code",
   "execution_count": 16,
   "metadata": {},
   "outputs": [
    {
     "data": {
      "text/plain": [
       "0    TN\n",
       "1    UT\n",
       "2    WY\n",
       "3    AZ\n",
       "4    CO\n",
       "Name: State, dtype: object"
      ]
     },
     "execution_count": 16,
     "metadata": {},
     "output_type": "execute_result"
    }
   ],
   "source": [
    "parks['State'] = parks['State'].str.strip()\n",
    "parks['State'].head()"
   ]
  },
  {
   "cell_type": "code",
   "execution_count": 17,
   "metadata": {},
   "outputs": [
    {
     "data": {
      "text/plain": [
       "Park                                            Great Sand Dunes\n",
       "Location                                               Mosca, CO\n",
       "AnnualPassPrice                                               45\n",
       "Area                                                        sqmi\n",
       "ParkType                                National park & preserve\n",
       "Visitors2021                                              602613\n",
       "Visitors2020                                              461532\n",
       "Visitors2019                                            527546.0\n",
       "Change2020                                              -66014.0\n",
       "PercentChange2020                                         -12.51\n",
       "AreaValues                                                 232.9\n",
       "ParkTitle            Great Sand Dunes National Park And Preserve\n",
       "State                                                         CO\n",
       "Name: 37, dtype: object"
      ]
     },
     "execution_count": 17,
     "metadata": {},
     "output_type": "execute_result"
    }
   ],
   "source": [
    "parks['ParkTitle'] = parks['ParkTitle'].str.replace(pat='&', repl='And', regex=False)\n",
    "parks.loc[37,:]"
   ]
  },
  {
   "cell_type": "markdown",
   "metadata": {},
   "source": [
    "##### 7: Changing Data Types"
   ]
  },
  {
   "cell_type": "code",
   "execution_count": 18,
   "metadata": {},
   "outputs": [],
   "source": [
    "parks['AreaValues'] = parks['AreaValues'].astype('float64')"
   ]
  },
  {
   "cell_type": "code",
   "execution_count": 19,
   "metadata": {},
   "outputs": [],
   "source": [
    "parks['State'] = parks['State'].astype('category')"
   ]
  },
  {
   "cell_type": "code",
   "execution_count": 20,
   "metadata": {},
   "outputs": [
    {
     "name": "stdout",
     "output_type": "stream",
     "text": [
      "<class 'pandas.core.frame.DataFrame'>\n",
      "RangeIndex: 72 entries, 0 to 71\n",
      "Data columns (total 13 columns):\n",
      " #   Column             Non-Null Count  Dtype   \n",
      "---  ------             --------------  -----   \n",
      " 0   Park               72 non-null     object  \n",
      " 1   Location           72 non-null     object  \n",
      " 2   AnnualPassPrice    72 non-null     int64   \n",
      " 3   Area               72 non-null     object  \n",
      " 4   ParkType           72 non-null     object  \n",
      " 5   Visitors2021       72 non-null     int64   \n",
      " 6   Visitors2020       72 non-null     int64   \n",
      " 7   Visitors2019       71 non-null     float64 \n",
      " 8   Change2020         71 non-null     float64 \n",
      " 9   PercentChange2020  71 non-null     float64 \n",
      " 10  AreaValues         72 non-null     float64 \n",
      " 11  ParkTitle          72 non-null     object  \n",
      " 12  State              72 non-null     category\n",
      "dtypes: category(1), float64(4), int64(3), object(5)\n",
      "memory usage: 8.2+ KB\n"
     ]
    }
   ],
   "source": [
    "parks.info()"
   ]
  }
 ],
 "metadata": {
  "kernelspec": {
   "display_name": "Python 3",
   "language": "python",
   "name": "python3"
  },
  "language_info": {
   "codemirror_mode": {
    "name": "ipython",
    "version": 3
   },
   "file_extension": ".py",
   "mimetype": "text/x-python",
   "name": "python",
   "nbconvert_exporter": "python",
   "pygments_lexer": "ipython3",
   "version": "3.12.6"
  }
 },
 "nbformat": 4,
 "nbformat_minor": 2
}
